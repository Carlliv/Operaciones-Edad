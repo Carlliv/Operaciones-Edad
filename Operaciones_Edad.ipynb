{
  "nbformat": 4,
  "nbformat_minor": 0,
  "metadata": {
    "colab": {
      "provenance": [],
      "name": "Operaciones Edad.ipynb",
      "authorship_tag": "ABX9TyOLIfVDeMT2T8fb7DY8dz2y"
    },
    "kernelspec": {
      "name": "python3",
      "display_name": "Python 3"
    },
    "language_info": {
      "name": "python"
    }
  },
  "cells": [
    {
      "cell_type": "code",
      "source": [
        "x=24\n",
        "x/=2\n",
        "x"
      ],
      "metadata": {
        "id": "58WZR-jVB-4v",
        "outputId": "31e0f91e-1792-4b67-d386-790720d4916e",
        "colab": {
          "base_uri": "https://localhost:8080/"
        }
      },
      "execution_count": 74,
      "outputs": [
        {
          "output_type": "execute_result",
          "data": {
            "text/plain": [
              "12.0"
            ]
          },
          "metadata": {},
          "execution_count": 74
        }
      ]
    },
    {
      "cell_type": "code",
      "source": [
        "#La ecuación es x/3-15=6 entonces x=(6+15)*3#\n",
        "y=6\n",
        "y+=15\n",
        "y*=3\n",
        "y"
      ],
      "metadata": {
        "id": "RxpKzR7kC7tj",
        "outputId": "08a4af1a-2cc4-4556-b3d7-f2aab875f3c9",
        "colab": {
          "base_uri": "https://localhost:8080/"
        }
      },
      "execution_count": 73,
      "outputs": [
        {
          "output_type": "execute_result",
          "data": {
            "text/plain": [
              "63"
            ]
          },
          "metadata": {},
          "execution_count": 73
        }
      ]
    },
    {
      "cell_type": "code",
      "source": [
        "if(x>y):\n",
        "  print('La primera edad es la mas grande con ', x)\n",
        "else:\n",
        "  print('La edad de la hermana es la mas grande con ',y)"
      ],
      "metadata": {
        "id": "9NcWCdD-FKzU",
        "outputId": "9c991be6-d383-4440-83f0-e1246d2feb8b",
        "colab": {
          "base_uri": "https://localhost:8080/"
        }
      },
      "execution_count": 72,
      "outputs": [
        {
          "output_type": "stream",
          "name": "stdout",
          "text": [
            "La edad de la hermana es la mas grande con  63\n"
          ]
        }
      ]
    }
  ]
}